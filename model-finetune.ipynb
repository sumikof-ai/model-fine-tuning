{
 "cells": [
  {
   "cell_type": "markdown",
   "id": "f5208b6a-14c8-4fa3-a9aa-81718f0b3bba",
   "metadata": {},
   "source": [
    "```\n",
    "pip install torch torchvision torchaudio --index-url https://download.pytorch.org/whl/cu126\n",
    "pip install transformers datasets\n",
    "pip install trl\n",
    "```"
   ]
  },
  {
   "cell_type": "code",
   "execution_count": 1,
   "id": "f257e9eb-8aba-4d5b-90ad-990cf960ea41",
   "metadata": {},
   "outputs": [
    {
     "name": "stderr",
     "output_type": "stream",
     "text": [
      "The `GPTNeoXSdpaAttention` class is deprecated in favor of simply modifying the `config._attn_implementation`attribute of the `GPTNeoXAttention` class! It will be removed in v4.48\n"
     ]
    }
   ],
   "source": [
    "import transformers\n",
    "import torch\n",
    "\n",
    "# モデルとトークナイザの準備\n",
    "model = transformers.AutoModelForCausalLM.from_pretrained(\n",
    "    \"cyberagent/open-calm-small\",\n",
    "    torch_dtype=torch.bfloat16\n",
    ")\n",
    "tokenizer = transformers.AutoTokenizer.from_pretrained(\n",
    "    \"cyberagent/open-calm-small\"\n",
    ")"
   ]
  },
  {
   "cell_type": "code",
   "execution_count": 2,
   "id": "dba88620-23d5-4cd9-a487-ae6b104e097d",
   "metadata": {},
   "outputs": [
    {
     "name": "stdout",
     "output_type": "stream",
     "text": [
      "True\n"
     ]
    }
   ],
   "source": [
    "print(torch.cuda.is_available())"
   ]
  },
  {
   "cell_type": "code",
   "execution_count": 3,
   "id": "fae0ab26-e44b-4107-a680-953f601d6c7e",
   "metadata": {},
   "outputs": [
    {
     "data": {
      "text/plain": [
       "Dataset({\n",
       "    features: ['output', 'input', 'index', 'category', 'instruction'],\n",
       "    num_rows: 15015\n",
       "})"
      ]
     },
     "execution_count": 3,
     "metadata": {},
     "output_type": "execute_result"
    }
   ],
   "source": [
    "import datasets\n",
    "\n",
    "# データセットを用意\n",
    "datadic = datasets.load_dataset(\"kunishou/databricks-dolly-15k-ja\")\n",
    "dataset = datadic['train']\n",
    "dataset"
   ]
  },
  {
   "cell_type": "code",
   "execution_count": 4,
   "id": "5b1c735a-44ec-4692-b8be-1f16a774e4f7",
   "metadata": {},
   "outputs": [],
   "source": [
    "dataset = dataset.filter(lambda data: data['input'] == \"\")  # 対象を絞る\n",
    "\n",
    "if len(dataset) > 5000:\n",
    "    dataset = dataset.take(5000)  # データ量を減らす"
   ]
  },
  {
   "cell_type": "code",
   "execution_count": 6,
   "id": "d4f2e22c-01f2-4a86-a395-bcd137e45a3c",
   "metadata": {},
   "outputs": [],
   "source": [
    "args=transformers.TrainingArguments(\n",
    "        output_dir=\"./output\",\n",
    "        per_device_train_batch_size=2,  # バッチサイズを小さく設定\n",
    "        gradient_accumulation_steps=8,  # 勾配を蓄積するステップ数を大きく設定\n",
    "        max_steps=1000,  # 最大ステップ数を設定\n",
    "        logging_steps=100,\n",
    "        save_steps=500,\n",
    "        learning_rate=1e-5,\n",
    "        weight_decay=0.01,\n",
    "    )"
   ]
  },
  {
   "cell_type": "code",
   "execution_count": 7,
   "id": "7927e366-86a5-41a0-bcb0-785c9d66f39f",
   "metadata": {},
   "outputs": [],
   "source": [
    "# プロンプトフォーマットを準備\n",
    "def prompt_format(example):\n",
    "    output = []\n",
    "    for i in range(len(example['instruction'])):\n",
    "        text = (\n",
    "            \"以下はタスクを説明する指示です。要求を適切に満たす応答を書きなさい。\\n\"\n",
    "            f\"### 指示:\\n{example['instruction'][i]}\\n\"\n",
    "            f\"### 応答:\\n{example['output'][i]}\\n\"\n",
    "            + tokenizer.eos_token\n",
    "        )\n",
    "        output.append(text)\n",
    "    return output\n",
    "\n",
    "response_template = \"### 応答:\\n\"\n",
    "\n",
    "import trl\n",
    "\n",
    "# トレイナの準備\n",
    "trainer = trl.SFTTrainer(\n",
    "    model=model,\n",
    "    data_collator=trl.DataCollatorForCompletionOnlyLM(\n",
    "        response_template,\n",
    "        tokenizer=tokenizer\n",
    "    ),\n",
    "    args=args,\n",
    "    train_dataset=dataset,\n",
    "    formatting_func=prompt_format\n",
    ")"
   ]
  },
  {
   "cell_type": "code",
   "execution_count": 8,
   "id": "ce8e019c-4df7-495e-b096-afd3405c2dd4",
   "metadata": {},
   "outputs": [
    {
     "data": {
      "text/plain": [
       "1000"
      ]
     },
     "execution_count": 8,
     "metadata": {},
     "output_type": "execute_result"
    }
   ],
   "source": [
    "trainer.dataset_batch_size"
   ]
  },
  {
   "cell_type": "code",
   "execution_count": 9,
   "id": "dc319672-35c3-42f8-8017-80e3331dc9a5",
   "metadata": {},
   "outputs": [
    {
     "data": {
      "text/html": [
       "\n",
       "    <div>\n",
       "      \n",
       "      <progress value='1000' max='1000' style='width:300px; height:20px; vertical-align: middle;'></progress>\n",
       "      [1000/1000 15:39, Epoch 3/4]\n",
       "    </div>\n",
       "    <table border=\"1\" class=\"dataframe\">\n",
       "  <thead>\n",
       " <tr style=\"text-align: left;\">\n",
       "      <th>Step</th>\n",
       "      <th>Training Loss</th>\n",
       "    </tr>\n",
       "  </thead>\n",
       "  <tbody>\n",
       "    <tr>\n",
       "      <td>100</td>\n",
       "      <td>27.487700</td>\n",
       "    </tr>\n",
       "    <tr>\n",
       "      <td>200</td>\n",
       "      <td>27.351500</td>\n",
       "    </tr>\n",
       "    <tr>\n",
       "      <td>300</td>\n",
       "      <td>26.989000</td>\n",
       "    </tr>\n",
       "    <tr>\n",
       "      <td>400</td>\n",
       "      <td>26.707000</td>\n",
       "    </tr>\n",
       "    <tr>\n",
       "      <td>500</td>\n",
       "      <td>26.703900</td>\n",
       "    </tr>\n",
       "    <tr>\n",
       "      <td>600</td>\n",
       "      <td>26.858400</td>\n",
       "    </tr>\n",
       "    <tr>\n",
       "      <td>700</td>\n",
       "      <td>26.417100</td>\n",
       "    </tr>\n",
       "    <tr>\n",
       "      <td>800</td>\n",
       "      <td>26.761300</td>\n",
       "    </tr>\n",
       "    <tr>\n",
       "      <td>900</td>\n",
       "      <td>26.745200</td>\n",
       "    </tr>\n",
       "    <tr>\n",
       "      <td>1000</td>\n",
       "      <td>26.629500</td>\n",
       "    </tr>\n",
       "  </tbody>\n",
       "</table><p>"
      ],
      "text/plain": [
       "<IPython.core.display.HTML object>"
      ]
     },
     "metadata": {},
     "output_type": "display_data"
    },
    {
     "data": {
      "text/plain": [
       "TrainOutput(global_step=1000, training_loss=26.86504296875, metrics={'train_runtime': 940.4181, 'train_samples_per_second': 17.014, 'train_steps_per_second': 1.063, 'total_flos': 1938109568937984.0, 'train_loss': 26.86504296875, 'epoch': 3.1952})"
      ]
     },
     "execution_count": 9,
     "metadata": {},
     "output_type": "execute_result"
    }
   ],
   "source": [
    "# トレーニングする\n",
    "trainer.train()"
   ]
  },
  {
   "cell_type": "code",
   "execution_count": 10,
   "id": "47e31a95-2716-4a64-9252-69afe148d528",
   "metadata": {},
   "outputs": [],
   "source": [
    "trainer.save_model(\"./trained_model\")"
   ]
  }
 ],
 "metadata": {
  "kernelspec": {
   "display_name": "Python 3 (ipykernel)",
   "language": "python",
   "name": "python3"
  },
  "language_info": {
   "codemirror_mode": {
    "name": "ipython",
    "version": 3
   },
   "file_extension": ".py",
   "mimetype": "text/x-python",
   "name": "python",
   "nbconvert_exporter": "python",
   "pygments_lexer": "ipython3",
   "version": "3.11.9"
  }
 },
 "nbformat": 4,
 "nbformat_minor": 5
}
